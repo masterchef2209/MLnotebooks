{
  "cells": [
    {
      "metadata": {
        "_uuid": "8f2839f25d086af736a60e9eeb907d3b93b6e0e5",
        "_cell_guid": "b1076dfc-b9ad-4769-8c92-a6c4dae69d19",
        "trusted": true
      },
      "cell_type": "code",
      "source": "# This Python 3 environment comes with many helpful analytics libraries installed\n# It is defined by the kaggle/python docker image: https://github.com/kaggle/docker-python\n# For example, here's several helpful packages to load in \n\nimport numpy as np # linear algebra\nimport pandas as pd # data processing, CSV file I/O (e.g. pd.read_csv)\n\n# Input data files are available in the \"../input/\" directory.\n# For example, running this (by clicking run or pressing Shift+Enter) will list the files in the input directory\n\nimport os\nprint(os.listdir(\"../input\"))\n\n# Any results you write to the current directory are saved as output.",
      "execution_count": null,
      "outputs": []
    },
    {
      "metadata": {
        "_cell_guid": "79c7e3d0-c299-4dcb-8224-4455121ee9b0",
        "_uuid": "d629ff2d2480ee46fbb7e2d37f6b5fab8052498a",
        "trusted": true
      },
      "cell_type": "code",
      "source": "import matplotlib.pyplot as plt\nimport seaborn as sns\n%matplotlib inline",
      "execution_count": null,
      "outputs": []
    },
    {
      "metadata": {
        "trusted": true,
        "_uuid": "2cf38e4fef1b3990669dfdabe2281c9e37582744"
      },
      "cell_type": "code",
      "source": "df=pd.read_csv('../input/Pokemon.csv')",
      "execution_count": null,
      "outputs": []
    },
    {
      "metadata": {
        "trusted": true,
        "_uuid": "db72223debae10067ff15a24938517ec2e7095fa"
      },
      "cell_type": "code",
      "source": "df.columns",
      "execution_count": null,
      "outputs": []
    },
    {
      "metadata": {
        "trusted": true,
        "_uuid": "a44b3e9f5f74c96add7b0f18528d39ed72474530"
      },
      "cell_type": "code",
      "source": "df.describe()",
      "execution_count": null,
      "outputs": []
    },
    {
      "metadata": {
        "trusted": true,
        "_uuid": "ff2c18f41bebed9df311a03ce9d67fe13eaa3fc5"
      },
      "cell_type": "code",
      "source": "df.info()",
      "execution_count": null,
      "outputs": []
    },
    {
      "metadata": {
        "trusted": true,
        "_uuid": "3810fac19ad1575f619630331ac9b895fd9051d9"
      },
      "cell_type": "code",
      "source": "df.head(10)",
      "execution_count": null,
      "outputs": []
    },
    {
      "metadata": {
        "_uuid": "ce7901822e2b921a3de12a3999ca89ece3ef22dd"
      },
      "cell_type": "markdown",
      "source": "**Number of Pokemon of each generation**"
    },
    {
      "metadata": {
        "trusted": true,
        "_uuid": "982f253c57337235a86da1fdb77cbb90ab0d5e97"
      },
      "cell_type": "code",
      "source": "sns.countplot(x='Generation',data=df)",
      "execution_count": null,
      "outputs": []
    },
    {
      "metadata": {
        "_uuid": "abb7a7a3e2d804bf3bb8cea2b75cffa0eb20c35b"
      },
      "cell_type": "markdown",
      "source": "**TOP 10 POKEMON according to overall abilities**"
    },
    {
      "metadata": {
        "trusted": true,
        "_uuid": "3d6a62b9a8caeaa275129cf1b056c76163c7050d"
      },
      "cell_type": "code",
      "source": "df.sort_values('Total',ascending=False).head(10)",
      "execution_count": null,
      "outputs": []
    },
    {
      "metadata": {
        "trusted": true,
        "_uuid": "45c13e1850a11d58022a31683041326424d9e873"
      },
      "cell_type": "code",
      "source": "sns.jointplot(x='Attack',y='Defense',data=df,kind='hex',color='grey')",
      "execution_count": null,
      "outputs": []
    },
    {
      "metadata": {
        "trusted": true,
        "_uuid": "42be7566aa410e12737eac1887cb22c553db0eba"
      },
      "cell_type": "code",
      "source": "le=df[df['Legendary']==True]\nsns.countplot(x='Generation',data=le)\n#3rd generation has maximum number of legendary pokemons",
      "execution_count": null,
      "outputs": []
    },
    {
      "metadata": {
        "_uuid": "6793c4fa029c35c6f949d91586f697a26b07190a"
      },
      "cell_type": "markdown",
      "source": "**TOP 10 Fastest Pokemon ever**"
    },
    {
      "metadata": {
        "trusted": true,
        "_uuid": "ff0a786ea5012b52b51f41dc815e70f237d4c832"
      },
      "cell_type": "code",
      "source": "df.sort_values('Speed',ascending=False).head(10)",
      "execution_count": null,
      "outputs": []
    },
    {
      "metadata": {
        "trusted": true,
        "_uuid": "072897d1e1b4ced89f0e25c235d519b2b76f3b11"
      },
      "cell_type": "code",
      "source": "co=df.corr()",
      "execution_count": null,
      "outputs": []
    },
    {
      "metadata": {
        "trusted": true,
        "_uuid": "c73a5e2e62d36c5086a9064e44bbb6a74e68f2b9"
      },
      "cell_type": "code",
      "source": "plt.figure(figsize=(10,8))\nsns.heatmap(co,cmap='viridis')",
      "execution_count": null,
      "outputs": []
    },
    {
      "metadata": {
        "trusted": true,
        "_uuid": "8af5055024a8435b2060b09ecdb6e168aaa6ce06"
      },
      "cell_type": "code",
      "source": "plt.figure(figsize=(16,10))\nsns.barplot(x='Type 1',y='HP',data=df,hue='Legendary')\n#Apparently Legendary Ghost Pokemon have very high HP",
      "execution_count": null,
      "outputs": []
    },
    {
      "metadata": {
        "trusted": true,
        "_uuid": "38a12bbd525dbef9a1d8ddf7bf1facb9a4a8e842"
      },
      "cell_type": "code",
      "source": "#Top 10 most popular 2nd type of pokemon\ndf['Type 2'].unique()",
      "execution_count": null,
      "outputs": []
    },
    {
      "metadata": {
        "trusted": true,
        "_uuid": "667e84b9b1c7726f66a17d19d4c6019836309638"
      },
      "cell_type": "code",
      "source": "sns.kdeplot(df.Speed,df.Total)",
      "execution_count": null,
      "outputs": []
    },
    {
      "metadata": {
        "trusted": true,
        "_uuid": "5cb450c5067b561b751f269e5756f4d8ffde1117"
      },
      "cell_type": "code",
      "source": "plt.figure(figsize=(20,15))\nsns.boxplot(x='Type 1',y='Total',data=df)",
      "execution_count": null,
      "outputs": []
    },
    {
      "metadata": {
        "trusted": true,
        "_uuid": "66a18c6d6c9de68cade88078120bf586f3c61630"
      },
      "cell_type": "code",
      "source": "plt.figure(figsize=(20,15))\nsns.countplot(x='Type 1',hue='Generation',data=df)",
      "execution_count": null,
      "outputs": []
    },
    {
      "metadata": {
        "trusted": true,
        "_uuid": "ceb625abf5ec437d61663bc8063a7801c9479313"
      },
      "cell_type": "code",
      "source": "",
      "execution_count": null,
      "outputs": []
    }
  ],
  "metadata": {
    "kernelspec": {
      "display_name": "Python 3",
      "language": "python",
      "name": "python3"
    },
    "language_info": {
      "name": "python",
      "version": "3.6.6",
      "mimetype": "text/x-python",
      "codemirror_mode": {
        "name": "ipython",
        "version": 3
      },
      "pygments_lexer": "ipython3",
      "nbconvert_exporter": "python",
      "file_extension": ".py"
    }
  },
  "nbformat": 4,
  "nbformat_minor": 1
}